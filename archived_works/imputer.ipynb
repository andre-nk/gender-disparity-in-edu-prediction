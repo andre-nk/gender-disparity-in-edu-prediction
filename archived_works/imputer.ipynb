{
 "cells": [
  {
   "cell_type": "code",
   "execution_count": 7,
   "metadata": {},
   "outputs": [
    {
     "name": "stdout",
     "output_type": "stream",
     "text": [
      "Final dataset with imputed values for specified indicators has been saved to Imputed_Indicators_2.csv\n"
     ]
    },
    {
     "name": "stderr",
     "output_type": "stream",
     "text": [
      "/var/folders/5y/b6brcrqj4vd7311g121j3tf00000gn/T/ipykernel_14088/70767313.py:56: SettingWithCopyWarning: \n",
      "A value is trying to be set on a copy of a slice from a DataFrame.\n",
      "Try using .loc[row_indexer,col_indexer] = value instead\n",
      "\n",
      "See the caveats in the documentation: https://pandas.pydata.org/pandas-docs/stable/user_guide/indexing.html#returning-a-view-versus-a-copy\n",
      "  filtered_dataset[column] = random_sampling_imputation(filtered_dataset, column)\n"
     ]
    }
   ],
   "source": [
    "import pandas as pd\n",
    "import numpy as np\n",
    "\n",
    "# Load the provided normalized dataset\n",
    "file_path = 'Normalized_Gender_IDN.csv'\n",
    "normalized_dataset = pd.read_csv(file_path)\n",
    "\n",
    "# Define the indicators\n",
    "indicators = {\n",
    "    'Adjusted net enrollment rate, primary': [\n",
    "        'Adjusted net enrollment rate, primary, female (% of primary school age children)',\n",
    "        'Adjusted net enrollment rate, primary, male (% of primary school age children)'\n",
    "    ],\n",
    "    'School enrollment, preprimary': [\n",
    "        'School enrollment, preprimary, female (% gross)',\n",
    "        'School enrollment, preprimary, male (% gross)'\n",
    "    ],\n",
    "    'School enrollment, primary (gross)': [\n",
    "        'School enrollment, primary, female (% gross)',\n",
    "        'School enrollment, primary, male (% gross)'\n",
    "    ],\n",
    "    'School enrollment, primary (net)': [\n",
    "        'School enrollment, primary, female (% net)',\n",
    "        'School enrollment, primary, male (% net)'\n",
    "    ],\n",
    "    'School enrollment, secondary (gross)': [\n",
    "        'School enrollment, secondary, female (% gross)',\n",
    "        'School enrollment, secondary, male (% gross)'\n",
    "    ],\n",
    "    'School enrollment, secondary (net)': [\n",
    "        'School enrollment, secondary, female (% net)',\n",
    "        'School enrollment, secondary, male (% net)'\n",
    "    ],\n",
    "    'School enrollment, tertiary': [\n",
    "        'School enrollment, tertiary, female (% gross)',\n",
    "        'School enrollment, tertiary, male (% gross)'\n",
    "    ]\n",
    "}\n",
    "\n",
    "# Flatten the list of indicators\n",
    "indicator_columns = [column for sublist in indicators.values() for column in sublist]\n",
    "\n",
    "# Filter the dataset for years in the range of 1960s to 1980s\n",
    "filtered_dataset = normalized_dataset[normalized_dataset['Year'].between(1960, 1989)]\n",
    "\n",
    "# Define a function for random sampling imputation\n",
    "def random_sampling_imputation(df, column_name):\n",
    "    non_null_values = df[column_name].dropna()\n",
    "    if non_null_values.empty:\n",
    "        return df[column_name]  # Return the column as is if no non-null values are available\n",
    "    return df[column_name].apply(lambda x: np.random.choice(non_null_values) if pd.isnull(x) else x)\n",
    "\n",
    "# Apply the random sampling imputation to the specified indicators\n",
    "for column in indicator_columns:\n",
    "    if column in filtered_dataset.columns and filtered_dataset[column].isnull().any():\n",
    "        filtered_dataset[column] = random_sampling_imputation(filtered_dataset, column)\n",
    "\n",
    "# Replace the years in the original dataset with the imputed data\n",
    "normalized_dataset.update(filtered_dataset)\n",
    "\n",
    "# Select only the specified indicators and the 'Year' column\n",
    "final_dataset = normalized_dataset[['Year'] + indicator_columns]\n",
    "\n",
    "# Save the final dataset\n",
    "output_file_path_final = 'Imputed_Indicators_2.csv'\n",
    "final_dataset.to_csv(output_file_path_final, index=False)\n",
    "\n",
    "print(f'Final dataset with imputed values for specified indicators has been saved to {output_file_path_final}')"
   ]
  }
 ],
 "metadata": {
  "kernelspec": {
   "display_name": "Python 3",
   "language": "python",
   "name": "python3"
  },
  "language_info": {
   "codemirror_mode": {
    "name": "ipython",
    "version": 3
   },
   "file_extension": ".py",
   "mimetype": "text/x-python",
   "name": "python",
   "nbconvert_exporter": "python",
   "pygments_lexer": "ipython3",
   "version": "3.10.5"
  }
 },
 "nbformat": 4,
 "nbformat_minor": 2
}
